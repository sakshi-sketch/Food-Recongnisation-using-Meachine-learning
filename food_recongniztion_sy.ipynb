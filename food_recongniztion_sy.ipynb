{
  "cells": [
    {
      "cell_type": "code",
      "execution_count": 1,
      "metadata": {
        "colab": {
          "base_uri": "https://localhost:8080/"
        },
        "id": "zpCVu5EfgwmO",
        "outputId": "651cc75e-ba52-476c-8e4f-c90d82b34a67"
      },
      "outputs": [
        {
          "output_type": "stream",
          "name": "stdout",
          "text": [
            "Mounted at /content/drive\n"
          ]
        }
      ],
      "source": [
        "from google.colab import drive\n",
        "drive.mount('/content/drive')"
      ]
    },
    {
      "cell_type": "code",
      "execution_count": 2,
      "metadata": {
        "id": "hvHbNamGhNJG"
      },
      "outputs": [],
      "source": [
        "import numpy as np\n",
        "import matplotlib.pyplot as plt\n",
        "import cv2 as cv\n",
        "import tensorflow as tf\n"
      ]
    },
    {
      "cell_type": "code",
      "execution_count": 3,
      "metadata": {
        "colab": {
          "base_uri": "https://localhost:8080/"
        },
        "id": "cKrnsk1nnSc4",
        "outputId": "c7ed3338-3593-4f32-aa46-6d0e0db990a6"
      },
      "outputs": [
        {
          "output_type": "stream",
          "name": "stdout",
          "text": [
            "Found 3115 files belonging to 36 classes.\n"
          ]
        }
      ],
      "source": [
        "training_set = tf.keras.utils.image_dataset_from_directory(\n",
        "    '/content/drive/MyDrive/food recongnization system/train',\n",
        "    labels=\"inferred\",\n",
        "    label_mode=\"categorical\",\n",
        "    class_names=None,\n",
        "    color_mode=\"rgb\",\n",
        "    batch_size=32,\n",
        "    image_size=(64, 64),\n",
        "    shuffle=True,\n",
        "    seed=None,\n",
        "    validation_split=None,\n",
        "    subset=None,\n",
        "    interpolation=\"bilinear\",\n",
        "    follow_links=False,\n",
        "    crop_to_aspect_ratio=False,\n",
        "\n",
        ")"
      ]
    },
    {
      "cell_type": "code",
      "execution_count": 4,
      "metadata": {
        "colab": {
          "base_uri": "https://localhost:8080/"
        },
        "id": "gxgyVFpoqdoR",
        "outputId": "dbf6c96a-09e2-4129-bb07-9c24879af54f"
      },
      "outputs": [
        {
          "output_type": "stream",
          "name": "stdout",
          "text": [
            "Found 332 files belonging to 36 classes.\n"
          ]
        }
      ],
      "source": [
        "validation_set = tf.keras.utils.image_dataset_from_directory(\n",
        "    '/content/drive/MyDrive/food recongnization system/validation',\n",
        "    labels=\"inferred\",\n",
        "    label_mode=\"categorical\",\n",
        "    class_names=None,\n",
        "    color_mode=\"rgb\",\n",
        "    batch_size=32,\n",
        "    image_size=(64, 64),\n",
        "    shuffle=True,\n",
        "    seed=None,\n",
        "    validation_split=None,\n",
        "    subset=None,\n",
        "    interpolation=\"bilinear\",\n",
        "    follow_links=False,\n",
        "    crop_to_aspect_ratio=False\n",
        ")"
      ]
    },
    {
      "cell_type": "markdown",
      "metadata": {
        "id": "nuXRplolkr_X"
      },
      "source": [
        "building a model"
      ]
    },
    {
      "cell_type": "code",
      "execution_count": 5,
      "metadata": {
        "id": "3n82kDfSv5ct"
      },
      "outputs": [],
      "source": [
        "cnn = tf.keras.models.Sequential()"
      ]
    },
    {
      "cell_type": "markdown",
      "metadata": {
        "id": "PCh67T-Pkjdk"
      },
      "source": [
        "building convoultion layer"
      ]
    },
    {
      "cell_type": "code",
      "execution_count": 6,
      "metadata": {
        "id": "KxRP7n0rwEEc"
      },
      "outputs": [],
      "source": [
        "cnn.add(tf.keras.layers.Conv2D(filters = 64,kernel_size =3,activation = 'relu',input_shape = [64,64,3]))\n",
        "cnn.add(tf.keras.layers.MaxPool2D(pool_size= 2,strides = 2)) # max pooling"
      ]
    },
    {
      "cell_type": "code",
      "execution_count": 7,
      "metadata": {
        "id": "kjnu-PIKiYRw"
      },
      "outputs": [],
      "source": [
        "cnn.add(tf.keras.layers.Conv2D(filters = 64,kernel_size =3,activation = 'relu'))\n",
        "cnn.add(tf.keras.layers.MaxPool2D(pool_size= 2,strides = 2)) # max pooling and 2 layers to avoid data loss"
      ]
    },
    {
      "cell_type": "code",
      "execution_count": 8,
      "metadata": {
        "id": "JQj41Ennibvr"
      },
      "outputs": [],
      "source": [
        "# avoid overfitting\n",
        "\n",
        "cnn.add(tf.keras.layers.Dropout(0.5))"
      ]
    },
    {
      "cell_type": "code",
      "execution_count": 9,
      "metadata": {
        "id": "2GJoLT7gm315"
      },
      "outputs": [],
      "source": [
        "cnn.add(tf.keras.layers.Flatten())"
      ]
    },
    {
      "cell_type": "code",
      "execution_count": 10,
      "metadata": {
        "id": "eJ6MWHk9nDUq"
      },
      "outputs": [],
      "source": [
        "cnn.add(tf.keras.layers.Dense(units=128,activation = 'relu'))## to make neuron here units means no. of neurons"
      ]
    },
    {
      "cell_type": "code",
      "execution_count": 11,
      "metadata": {
        "id": "2MDVx3H1nuBY"
      },
      "outputs": [],
      "source": [
        "cnn.add(tf.keras.layers.Dense(units=36,activation = 'softmax'))## as there are 36 classes so keep them output 36 neurons"
      ]
    },
    {
      "cell_type": "markdown",
      "metadata": {
        "id": "l9Z1_b9JpQCs"
      },
      "source": [
        "Compiling phase and training phase"
      ]
    },
    {
      "cell_type": "code",
      "execution_count": 12,
      "metadata": {
        "id": "V9_3W528oyP8"
      },
      "outputs": [],
      "source": [
        "cnn.compile(optimizer='rmsprop',loss='categorical_crossentropy',metrics = ['accuracy'])\n",
        "  #if two category or two value then use binary_crossentropy or categorical and optimizer is adam also"
      ]
    },
    {
      "cell_type": "code",
      "source": [],
      "metadata": {
        "id": "EMYTjOOuadpj"
      },
      "execution_count": null,
      "outputs": []
    },
    {
      "cell_type": "code",
      "execution_count": 38,
      "metadata": {
        "colab": {
          "base_uri": "https://localhost:8080/"
        },
        "id": "dU9rWOTDRSQE",
        "outputId": "c32afffd-7b17-4088-90e8-a983175b13f0"
      },
      "outputs": [
        {
          "output_type": "stream",
          "name": "stdout",
          "text": [
            "Epoch 1/15\n",
            "98/98 [==============================] - 125s 1s/step - loss: 0.8895 - accuracy: 0.8934 - val_loss: 1.9578 - val_accuracy: 0.8946\n",
            "Epoch 2/15\n",
            "98/98 [==============================] - 117s 1s/step - loss: 0.7932 - accuracy: 0.8982 - val_loss: 1.3394 - val_accuracy: 0.9127\n",
            "Epoch 3/15\n",
            "98/98 [==============================] - 116s 1s/step - loss: 1.2405 - accuracy: 0.8716 - val_loss: 2.5442 - val_accuracy: 0.8705\n",
            "Epoch 4/15\n",
            "98/98 [==============================] - 117s 1s/step - loss: 1.0950 - accuracy: 0.8909 - val_loss: 1.1342 - val_accuracy: 0.9428\n",
            "Epoch 5/15\n",
            "98/98 [==============================] - 115s 1s/step - loss: 1.1633 - accuracy: 0.8831 - val_loss: 1.4390 - val_accuracy: 0.9518\n",
            "Epoch 6/15\n",
            "98/98 [==============================] - 125s 1s/step - loss: 0.8480 - accuracy: 0.8854 - val_loss: 1.4658 - val_accuracy: 0.9518\n",
            "Epoch 7/15\n",
            "98/98 [==============================] - 117s 1s/step - loss: 0.6466 - accuracy: 0.9095 - val_loss: 1.2445 - val_accuracy: 0.9428\n",
            "Epoch 8/15\n",
            "98/98 [==============================] - 114s 1s/step - loss: 0.8027 - accuracy: 0.8966 - val_loss: 1.4610 - val_accuracy: 0.9518\n",
            "Epoch 9/15\n",
            "98/98 [==============================] - 124s 1s/step - loss: 0.7972 - accuracy: 0.9047 - val_loss: 3.2851 - val_accuracy: 0.8464\n",
            "Epoch 10/15\n",
            "98/98 [==============================] - 123s 1s/step - loss: 0.8620 - accuracy: 0.9098 - val_loss: 2.3831 - val_accuracy: 0.9157\n",
            "Epoch 11/15\n",
            "98/98 [==============================] - 118s 1s/step - loss: 0.8715 - accuracy: 0.9002 - val_loss: 3.4287 - val_accuracy: 0.8494\n",
            "Epoch 12/15\n",
            "98/98 [==============================] - 118s 1s/step - loss: 0.9560 - accuracy: 0.9008 - val_loss: 1.4664 - val_accuracy: 0.9608\n",
            "Epoch 13/15\n",
            "98/98 [==============================] - 114s 1s/step - loss: 0.7939 - accuracy: 0.9018 - val_loss: 2.4022 - val_accuracy: 0.9428\n",
            "Epoch 14/15\n",
            "98/98 [==============================] - 127s 1s/step - loss: 0.9725 - accuracy: 0.8995 - val_loss: 4.2067 - val_accuracy: 0.8373\n",
            "Epoch 15/15\n",
            "98/98 [==============================] - 135s 1s/step - loss: 0.8731 - accuracy: 0.9069 - val_loss: 1.9887 - val_accuracy: 0.9428\n"
          ]
        }
      ],
      "source": [
        "train_history = cnn.fit(x=training_set,validation_data = validation_set,epochs = 15)"
      ]
    },
    {
      "cell_type": "code",
      "execution_count": 39,
      "metadata": {
        "id": "EBjt9JEmVjcr",
        "colab": {
          "base_uri": "https://localhost:8080/"
        },
        "outputId": "aea375b1-7e02-449f-e8d1-2357999473a3"
      },
      "outputs": [
        {
          "output_type": "stream",
          "name": "stderr",
          "text": [
            "/usr/local/lib/python3.10/dist-packages/keras/src/engine/training.py:3103: UserWarning: You are saving your model as an HDF5 file via `model.save()`. This file format is considered legacy. We recommend using instead the native Keras format, e.g. `model.save('my_model.keras')`.\n",
            "  saving_api.save_model(\n"
          ]
        }
      ],
      "source": [
        "cnn.save('trained_model.h5')"
      ]
    },
    {
      "cell_type": "code",
      "source": [
        "train_history.history #return history dictionary"
      ],
      "metadata": {
        "colab": {
          "base_uri": "https://localhost:8080/"
        },
        "id": "QYyD5DYlrXpM",
        "outputId": "1326c522-f87b-4d53-e5a2-24323c15c6d1"
      },
      "execution_count": 40,
      "outputs": [
        {
          "output_type": "execute_result",
          "data": {
            "text/plain": [
              "{'loss': [0.8895040154457092,\n",
              "  0.7932361960411072,\n",
              "  1.2404580116271973,\n",
              "  1.0950323343276978,\n",
              "  1.1632604598999023,\n",
              "  0.848016083240509,\n",
              "  0.6466083526611328,\n",
              "  0.8027079701423645,\n",
              "  0.7971624135971069,\n",
              "  0.8620094656944275,\n",
              "  0.8714840412139893,\n",
              "  0.9560244083404541,\n",
              "  0.7938860058784485,\n",
              "  0.972547709941864,\n",
              "  0.8731352686882019],\n",
              " 'accuracy': [0.8934189677238464,\n",
              "  0.8982343673706055,\n",
              "  0.8715890645980835,\n",
              "  0.8908507227897644,\n",
              "  0.8831460475921631,\n",
              "  0.8853932619094849,\n",
              "  0.9094703197479248,\n",
              "  0.8966292142868042,\n",
              "  0.9046549201011658,\n",
              "  0.9097913503646851,\n",
              "  0.9001604914665222,\n",
              "  0.9008025527000427,\n",
              "  0.9017656445503235,\n",
              "  0.8995184302330017,\n",
              "  0.9069020748138428],\n",
              " 'val_loss': [1.9578392505645752,\n",
              "  1.3393584489822388,\n",
              "  2.544220209121704,\n",
              "  1.1341956853866577,\n",
              "  1.4389941692352295,\n",
              "  1.4658467769622803,\n",
              "  1.2445236444473267,\n",
              "  1.4609687328338623,\n",
              "  3.2851150035858154,\n",
              "  2.3831300735473633,\n",
              "  3.428701639175415,\n",
              "  1.4663723707199097,\n",
              "  2.4021615982055664,\n",
              "  4.206696510314941,\n",
              "  1.9887068271636963],\n",
              " 'val_accuracy': [0.8945783376693726,\n",
              "  0.9126505851745605,\n",
              "  0.8704819083213806,\n",
              "  0.9427710771560669,\n",
              "  0.9518072009086609,\n",
              "  0.9518072009086609,\n",
              "  0.9427710771560669,\n",
              "  0.9518072009086609,\n",
              "  0.8463855385780334,\n",
              "  0.9156626462936401,\n",
              "  0.849397599697113,\n",
              "  0.9608433842658997,\n",
              "  0.9427710771560669,\n",
              "  0.8373494148254395,\n",
              "  0.9427710771560669]}"
            ]
          },
          "metadata": {},
          "execution_count": 40
        }
      ]
    },
    {
      "cell_type": "code",
      "source": [
        "import json\n",
        "with open('training_hist.json','w') as f:\n",
        "    json.dump(train_history.history,f)"
      ],
      "metadata": {
        "id": "QU2ZTA0-rh_n"
      },
      "execution_count": 41,
      "outputs": []
    },
    {
      "cell_type": "code",
      "source": [
        "print(train_history.history.keys())"
      ],
      "metadata": {
        "colab": {
          "base_uri": "https://localhost:8080/"
        },
        "id": "NieZCWS1scEv",
        "outputId": "68d8a59b-404f-401f-8217-c8fc96c8651e"
      },
      "execution_count": 42,
      "outputs": [
        {
          "output_type": "stream",
          "name": "stdout",
          "text": [
            "dict_keys(['loss', 'accuracy', 'val_loss', 'val_accuracy'])\n"
          ]
        }
      ]
    },
    {
      "cell_type": "markdown",
      "source": [
        "Calculate final accuracy of model"
      ],
      "metadata": {
        "id": "Nj9o_iPcs7uA"
      }
    },
    {
      "cell_type": "code",
      "source": [
        "print(\"validation set accuracy :{} %\".format(train_history.history['val_accuracy'][-1]*100))"
      ],
      "metadata": {
        "colab": {
          "base_uri": "https://localhost:8080/"
        },
        "id": "26RFANR3tDLp",
        "outputId": "19fca5c8-d5fa-452a-c054-8f61b6e4b38d"
      },
      "execution_count": 43,
      "outputs": [
        {
          "output_type": "stream",
          "name": "stdout",
          "text": [
            "validation set accuracy :94.27710771560669 %\n"
          ]
        }
      ]
    },
    {
      "cell_type": "markdown",
      "source": [
        "accuracy visulation"
      ],
      "metadata": {
        "id": "Fte9BpA9_6Je"
      }
    },
    {
      "cell_type": "code",
      "source": [
        "#training visuation\n",
        "epochs = [i for i in range(1,16)]\n",
        "plt.plot(epochs,train_history.history['accuracy'],color='red')\n",
        "plt.xlabel('epochs')\n",
        "plt.ylabel('accuracy')"
      ],
      "metadata": {
        "colab": {
          "base_uri": "https://localhost:8080/",
          "height": 466
        },
        "id": "tOCvTAps_4MZ",
        "outputId": "359ceb40-41a7-4b2e-dc0f-0253a5490309"
      },
      "execution_count": 47,
      "outputs": [
        {
          "output_type": "execute_result",
          "data": {
            "text/plain": [
              "Text(0, 0.5, 'accuracy')"
            ]
          },
          "metadata": {},
          "execution_count": 47
        },
        {
          "output_type": "display_data",
          "data": {
            "text/plain": [
              "<Figure size 640x480 with 1 Axes>"
            ],
            "image/png": "[encoded data removed]"
          },
          "metadata": {}
        }
      ]
    },
    {
      "cell_type": "code",
      "source": [
        "epochs = [i for i in range(1,16)]\n",
        "plt.plot(epochs,train_history.history['val_accuracy'],color='red')\n",
        "plt.xlabel('epochs')\n",
        "plt.ylabel('validation accuracy')"
      ],
      "metadata": {
        "colab": {
          "base_uri": "https://localhost:8080/",
          "height": 466
        },
        "id": "MlCuU0osARQQ",
        "outputId": "05d3234f-3d63-4586-a91b-b7c2053c505b"
      },
      "execution_count": 48,
      "outputs": [
        {
          "output_type": "execute_result",
          "data": {
            "text/plain": [
              "Text(0, 0.5, 'validation accuracy')"
            ]
          },
          "metadata": {},
          "execution_count": 48
        },
        {
          "output_type": "display_data",
          "data": {
            "text/plain": [
              "<Figure size 640x480 with 1 Axes>"
            ],
            "image/png": "[encoded data removed]"
          },
          "metadata": {}
        }
      ]
    }
  ],
  "metadata": {
    "colab": {
      "provenance": []
    },
    "kernelspec": {
      "display_name": "Python 3",
      "name": "python3"
    },
    "language_info": {
      "name": "python"
    }
  },
  "nbformat": 4,
  "nbformat_minor": 0
}